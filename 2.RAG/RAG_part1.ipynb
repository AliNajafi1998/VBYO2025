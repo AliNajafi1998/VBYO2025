{
  "cells": [
    {
      "cell_type": "markdown",
      "metadata": {
        "id": "m5KbOzf8CapM"
      },
      "source": [
        "# Implementing a simple RAG pipeline\n",
        "In this notebook, we will be implementing a simple RAG pipeline using LangChain library. Our RAG system's purpose is to answer student's questions about course offerings in Sabanci University.\n",
        "\n",
        "This notebook was prepared using some of the material from these two sources:\n",
        "* [Simple RAG for GitHub issues using Hugging Face Zephyr and LangChain](https://colab.research.google.com/github/huggingface/cookbook/blob/main/notebooks/en/rag_zephyr_langchain.ipynb#scrollTo=Kih21u1tyr-I)\n",
        "* [Advanced RAG on Hugging Face documentation using LangChain](https://colab.research.google.com/github/huggingface/cookbook/blob/main/notebooks/en/advanced_rag.ipynb#scrollTo=VjVqmDGh9-9N)"
      ]
    },
    {
      "cell_type": "code",
      "execution_count": 1,
      "metadata": {
        "colab": {
          "base_uri": "https://localhost:8080/"
        },
        "id": "bYrVyzmyDc6V",
        "outputId": "d179991b-4bd8-4f31-c18a-2c1ba53abb37"
      },
      "outputs": [
        {
          "output_type": "stream",
          "name": "stdout",
          "text": [
            "\u001b[?25l     \u001b[90m━━━━━━━━━━━━━━━━━━━━━━━━━━━━━━━━━━━━━━━━\u001b[0m \u001b[32m0.0/67.3 kB\u001b[0m \u001b[31m?\u001b[0m eta \u001b[36m-:--:--\u001b[0m\r\u001b[2K     \u001b[90m━━━━━━━━━━━━━━━━━━━━━━━━━━━━━━━━━━━━━━━━\u001b[0m \u001b[32m67.3/67.3 kB\u001b[0m \u001b[31m4.5 MB/s\u001b[0m eta \u001b[36m0:00:00\u001b[0m\n",
            "\u001b[?25h  Installing build dependencies ... \u001b[?25l\u001b[?25hdone\n",
            "  Getting requirements to build wheel ... \u001b[?25l\u001b[?25hdone\n",
            "  Preparing metadata (pyproject.toml) ... \u001b[?25l\u001b[?25hdone\n",
            "\u001b[2K   \u001b[90m━━━━━━━━━━━━━━━━━━━━━━━━━━━━━━━━━━━━━━━━\u001b[0m \u001b[32m363.4/363.4 MB\u001b[0m \u001b[31m4.6 MB/s\u001b[0m eta \u001b[36m0:00:00\u001b[0m\n",
            "\u001b[2K   \u001b[90m━━━━━━━━━━━━━━━━━━━━━━━━━━━━━━━━━━━━━━━━\u001b[0m \u001b[32m13.8/13.8 MB\u001b[0m \u001b[31m118.7 MB/s\u001b[0m eta \u001b[36m0:00:00\u001b[0m\n",
            "\u001b[2K   \u001b[90m━━━━━━━━━━━━━━━━━━━━━━━━━━━━━━━━━━━━━━━━\u001b[0m \u001b[32m24.6/24.6 MB\u001b[0m \u001b[31m91.6 MB/s\u001b[0m eta \u001b[36m0:00:00\u001b[0m\n",
            "\u001b[2K   \u001b[90m━━━━━━━━━━━━━━━━━━━━━━━━━━━━━━━━━━━━━━━━\u001b[0m \u001b[32m883.7/883.7 kB\u001b[0m \u001b[31m59.6 MB/s\u001b[0m eta \u001b[36m0:00:00\u001b[0m\n",
            "\u001b[2K   \u001b[90m━━━━━━━━━━━━━━━━━━━━━━━━━━━━━━━━━━━━━━━━\u001b[0m \u001b[32m664.8/664.8 MB\u001b[0m \u001b[31m2.6 MB/s\u001b[0m eta \u001b[36m0:00:00\u001b[0m\n",
            "\u001b[2K   \u001b[90m━━━━━━━━━━━━━━━━━━━━━━━━━━━━━━━━━━━━━━━━\u001b[0m \u001b[32m211.5/211.5 MB\u001b[0m \u001b[31m5.4 MB/s\u001b[0m eta \u001b[36m0:00:00\u001b[0m\n",
            "\u001b[2K   \u001b[90m━━━━━━━━━━━━━━━━━━━━━━━━━━━━━━━━━━━━━━━━\u001b[0m \u001b[32m56.3/56.3 MB\u001b[0m \u001b[31m11.6 MB/s\u001b[0m eta \u001b[36m0:00:00\u001b[0m\n",
            "\u001b[2K   \u001b[90m━━━━━━━━━━━━━━━━━━━━━━━━━━━━━━━━━━━━━━━━\u001b[0m \u001b[32m127.9/127.9 MB\u001b[0m \u001b[31m7.7 MB/s\u001b[0m eta \u001b[36m0:00:00\u001b[0m\n",
            "\u001b[2K   \u001b[90m━━━━━━━━━━━━━━━━━━━━━━━━━━━━━━━━━━━━━━━━\u001b[0m \u001b[32m207.5/207.5 MB\u001b[0m \u001b[31m5.3 MB/s\u001b[0m eta \u001b[36m0:00:00\u001b[0m\n",
            "\u001b[2K   \u001b[90m━━━━━━━━━━━━━━━━━━━━━━━━━━━━━━━━━━━━━━━━\u001b[0m \u001b[32m21.1/21.1 MB\u001b[0m \u001b[31m41.3 MB/s\u001b[0m eta \u001b[36m0:00:00\u001b[0m\n",
            "\u001b[2K   \u001b[90m━━━━━━━━━━━━━━━━━━━━━━━━━━━━━━━━━━━━━━━━\u001b[0m \u001b[32m72.9/72.9 MB\u001b[0m \u001b[31m9.3 MB/s\u001b[0m eta \u001b[36m0:00:00\u001b[0m\n",
            "\u001b[2K   \u001b[90m━━━━━━━━━━━━━━━━━━━━━━━━━━━━━━━━━━━━━━━━\u001b[0m \u001b[32m2.5/2.5 MB\u001b[0m \u001b[31m73.5 MB/s\u001b[0m eta \u001b[36m0:00:00\u001b[0m\n",
            "\u001b[2K   \u001b[90m━━━━━━━━━━━━━━━━━━━━━━━━━━━━━━━━━━━━━━━━\u001b[0m \u001b[32m19.5/19.5 MB\u001b[0m \u001b[31m62.2 MB/s\u001b[0m eta \u001b[36m0:00:00\u001b[0m\n",
            "\u001b[2K   \u001b[90m━━━━━━━━━━━━━━━━━━━━━━━━━━━━━━━━━━━━━━━━\u001b[0m \u001b[32m45.2/45.2 kB\u001b[0m \u001b[31m3.5 MB/s\u001b[0m eta \u001b[36m0:00:00\u001b[0m\n",
            "\u001b[2K   \u001b[90m━━━━━━━━━━━━━━━━━━━━━━━━━━━━━━━━━━━━━━━━\u001b[0m \u001b[32m284.2/284.2 kB\u001b[0m \u001b[31m13.5 MB/s\u001b[0m eta \u001b[36m0:00:00\u001b[0m\n",
            "\u001b[2K   \u001b[90m━━━━━━━━━━━━━━━━━━━━━━━━━━━━━━━━━━━━━━━━\u001b[0m \u001b[32m1.9/1.9 MB\u001b[0m \u001b[31m43.3 MB/s\u001b[0m eta \u001b[36m0:00:00\u001b[0m\n",
            "\u001b[2K   \u001b[90m━━━━━━━━━━━━━━━━━━━━━━━━━━━━━━━━━━━━━━━━\u001b[0m \u001b[32m50.9/50.9 kB\u001b[0m \u001b[31m3.9 MB/s\u001b[0m eta \u001b[36m0:00:00\u001b[0m\n",
            "\u001b[2K   \u001b[90m━━━━━━━━━━━━━━━━━━━━━━━━━━━━━━━━━━━━━━━━\u001b[0m \u001b[32m103.1/103.1 kB\u001b[0m \u001b[31m9.7 MB/s\u001b[0m eta \u001b[36m0:00:00\u001b[0m\n",
            "\u001b[2K   \u001b[90m━━━━━━━━━━━━━━━━━━━━━━━━━━━━━━━━━━━━━━━━\u001b[0m \u001b[32m16.5/16.5 MB\u001b[0m \u001b[31m70.6 MB/s\u001b[0m eta \u001b[36m0:00:00\u001b[0m\n",
            "\u001b[2K   \u001b[90m━━━━━━━━━━━━━━━━━━━━━━━━━━━━━━━━━━━━━━━━\u001b[0m \u001b[32m65.6/65.6 kB\u001b[0m \u001b[31m5.2 MB/s\u001b[0m eta \u001b[36m0:00:00\u001b[0m\n",
            "\u001b[2K   \u001b[90m━━━━━━━━━━━━━━━━━━━━━━━━━━━━━━━━━━━━━━━━\u001b[0m \u001b[32m72.5/72.5 kB\u001b[0m \u001b[31m6.2 MB/s\u001b[0m eta \u001b[36m0:00:00\u001b[0m\n",
            "\u001b[2K   \u001b[90m━━━━━━━━━━━━━━━━━━━━━━━━━━━━━━━━━━━━━━━━\u001b[0m \u001b[32m120.0/120.0 kB\u001b[0m \u001b[31m9.2 MB/s\u001b[0m eta \u001b[36m0:00:00\u001b[0m\n",
            "\u001b[2K   \u001b[90m━━━━━━━━━━━━━━━━━━━━━━━━━━━━━━━━━━━━━━━━\u001b[0m \u001b[32m201.6/201.6 kB\u001b[0m \u001b[31m15.9 MB/s\u001b[0m eta \u001b[36m0:00:00\u001b[0m\n",
            "\u001b[2K   \u001b[90m━━━━━━━━━━━━━━━━━━━━━━━━━━━━━━━━━━━━━━━━\u001b[0m \u001b[32m105.4/105.4 kB\u001b[0m \u001b[31m8.9 MB/s\u001b[0m eta \u001b[36m0:00:00\u001b[0m\n",
            "\u001b[2K   \u001b[90m━━━━━━━━━━━━━━━━━━━━━━━━━━━━━━━━━━━━━━━━\u001b[0m \u001b[32m71.4/71.4 kB\u001b[0m \u001b[31m6.0 MB/s\u001b[0m eta \u001b[36m0:00:00\u001b[0m\n",
            "\u001b[2K   \u001b[90m━━━━━━━━━━━━━━━━━━━━━━━━━━━━━━━━━━━━━━━━\u001b[0m \u001b[32m459.8/459.8 kB\u001b[0m \u001b[31m32.0 MB/s\u001b[0m eta \u001b[36m0:00:00\u001b[0m\n",
            "\u001b[2K   \u001b[90m━━━━━━━━━━━━━━━━━━━━━━━━━━━━━━━━━━━━━━━━\u001b[0m \u001b[32m4.0/4.0 MB\u001b[0m \u001b[31m74.8 MB/s\u001b[0m eta \u001b[36m0:00:00\u001b[0m\n",
            "\u001b[2K   \u001b[90m━━━━━━━━━━━━━━━━━━━━━━━━━━━━━━━━━━━━━━━━\u001b[0m \u001b[32m453.1/453.1 kB\u001b[0m \u001b[31m30.7 MB/s\u001b[0m eta \u001b[36m0:00:00\u001b[0m\n",
            "\u001b[2K   \u001b[90m━━━━━━━━━━━━━━━━━━━━━━━━━━━━━━━━━━━━━━━━\u001b[0m \u001b[32m46.0/46.0 kB\u001b[0m \u001b[31m3.6 MB/s\u001b[0m eta \u001b[36m0:00:00\u001b[0m\n",
            "\u001b[2K   \u001b[90m━━━━━━━━━━━━━━━━━━━━━━━━━━━━━━━━━━━━━━━━\u001b[0m \u001b[32m86.8/86.8 kB\u001b[0m \u001b[31m7.3 MB/s\u001b[0m eta \u001b[36m0:00:00\u001b[0m\n",
            "\u001b[?25h  Building wheel for pypika (pyproject.toml) ... \u001b[?25l\u001b[?25hdone\n"
          ]
        }
      ],
      "source": [
        "# Downloading relevant libraries\n",
        "!pip install -q torch transformers accelerate bitsandbytes transformers sentence-transformers langchain-chroma langchain langchain-community langchain-huggingface"
      ]
    },
    {
      "cell_type": "code",
      "execution_count": 3,
      "metadata": {
        "id": "yS5GQ4HIsbK7"
      },
      "outputs": [],
      "source": [
        "import pandas as pd\n",
        "import numpy as np\n",
        "import matplotlib.pyplot as plt\n"
      ]
    },
    {
      "cell_type": "markdown",
      "metadata": {
        "id": "geXxDf4y2RZO"
      },
      "source": [
        "## Loading Data\n",
        "The data we will be using was scraped from the [Sabanci Student Information system](https://suis.sabanciuniv.edu/prod/bwckschd.p_disp_dyn_sched)."
      ]
    },
    {
      "cell_type": "code",
      "execution_count": 2,
      "metadata": {
        "colab": {
          "base_uri": "https://localhost:8080/"
        },
        "id": "G2xin2zDFBvu",
        "outputId": "574a11ad-eaf3-40c3-d6aa-6645cc26d45c"
      },
      "outputs": [
        {
          "output_type": "stream",
          "name": "stdout",
          "text": [
            "Downloading...\n",
            "From: https://drive.google.com/uc?id=1oNPMb2rzlPd3HOi64k1Nz4uOhPnYshAs\n",
            "To: /content/sabanci_course_docs.zip\n",
            "\r  0% 0.00/27.9k [00:00<?, ?B/s]\r100% 27.9k/27.9k [00:00<00:00, 56.4MB/s]\n"
          ]
        }
      ],
      "source": [
        "!gdown https://drive.google.com/uc?id=1oNPMb2rzlPd3HOi64k1Nz4uOhPnYshAs\n",
        "!unzip -q /content/sabanci_course_docs.zip"
      ]
    },
    {
      "cell_type": "markdown",
      "metadata": {
        "id": "OgQ_3oBmLJdu"
      },
      "source": [
        "LangChain provides document loaders that allow loading different types of data such as:\n",
        "* Text\n",
        "* PDF\n",
        "* HTML\n",
        "* CSV\n",
        "* Markdown\n",
        "* File Directory\n",
        "\n",
        "You can check all these loaders [here](https://python.langchain.com/v0.1/docs/modules/data_connection/document_loaders/). Since our data is text files, we will use the `TextLoader`."
      ]
    },
    {
      "cell_type": "code",
      "execution_count": 4,
      "metadata": {
        "colab": {
          "base_uri": "https://localhost:8080/"
        },
        "id": "6_-DoYX9rTse",
        "outputId": "439f0941-8588-4d4d-f5ff-2a1d0803fed4"
      },
      "outputs": [
        {
          "output_type": "stream",
          "name": "stdout",
          "text": [
            "No. Documents: 8\n"
          ]
        }
      ],
      "source": [
        "# Loading data\n",
        "from langchain_community.document_loaders import TextLoader\n",
        "import glob\n",
        "\n",
        "docs = []\n",
        "for file in glob.glob(\"/content/sabanci_course_docs/*.txt\"):\n",
        "  loader = TextLoader(file)\n",
        "  docs += loader.load()\n",
        "\n",
        "print(f\"No. Documents: {len(docs)}\")"
      ]
    },
    {
      "cell_type": "code",
      "execution_count": 5,
      "metadata": {
        "colab": {
          "base_uri": "https://localhost:8080/"
        },
        "id": "f-7SLYhFsYrl",
        "outputId": "7d906d02-c33a-4fc6-f38c-617f00a06dc9"
      },
      "outputs": [
        {
          "output_type": "stream",
          "name": "stdout",
          "text": [
            "[47612, 93912, 71871, 49036, 65417, 4711, 6082, 99484]\n"
          ]
        }
      ],
      "source": [
        "# Checking document lengths\n",
        "print([len(doc.page_content) for doc in docs])"
      ]
    },
    {
      "cell_type": "markdown",
      "metadata": {
        "id": "MKFdjgkz3rxh"
      },
      "source": [
        "## Processing documents\n",
        "\n",
        "\n",
        "  <div>\n",
        "  <img src=\"https://drive.google.com/uc?export=view&id=1y_9TBlqTeVDdLUanNmVulQWrzs0A1OgO\" width=\"500\"/>\n",
        "  </div>\n",
        "\n",
        "[Image source](https://www.linkedin.com/pulse/ragparadigm-mohamed-azharudeen/)\n",
        "\n",
        "Now that we have the documents loaded as text, we need to split them to small chunks (**Why?** *Because we want to create a database of text-chunk-embeddings that will be used to find the parts of the document that are relevant to the user query*). When splitting documents into chunks, we need to take into consideration several factors:\n",
        "1. **Maximum chunk length**: This depends on:\n",
        "  * **Embedding model**: The length of each chunk should not exceed the maximum sequence length of the model that is used to create the embeddings of the document chunks.\n",
        "  * **Generative model**: Since we will be passing $k$ of the document chunks as context to the generative LLM, we need to make sure that the maximum sequence length of the generative LLM allows for fitting the prompt template, the context ($k$ document chunks), the query, and the model response.\n",
        "\n",
        "2. **Semantic content in chunks**: Ideally, we want each chunk to have a specific information content so that we can easily match it with the user query. However, it is hard to control the semantic content of the chunk since we are automatically splitting the documents. Having very large chunks will result in several ideas being covered in the same chunk, which will force the embedding to represent all these ideas, making it harder to match it with the user query. The choice on how to split the document into chunks highly depends on the type of documents.\n",
        "\n",
        "The LangChain `text_splitter` module provides several utilities for splitting the text into smaller chunks ([link](https://python.langchain.com/docs/modules/data_connection/document_transformers))."
      ]
    },
    {
      "cell_type": "markdown",
      "metadata": {
        "id": "RSGXT2XvNHm5"
      },
      "source": [
        "1. **Split by character using `CharacterTextSplitter`:**\n",
        "This is the simplest method. It splits using a specific character defined by the user, such as `\\n`. The user also defines a `chunk_size` parameter as an upper bound to the chunk size. `CharacterTextSplitter` splits the text using the defined character and keeps merging until it gets the longest text that does not excced the defined `chunk_size`. However, if a part of the splitted text exceeds the `chunk_size` it does not split it any further, resulting in a chunk that is longer than the maximum `chunk_size`.\n",
        "\n",
        "The `chunk_overlap` argument allows for keeping an overlap between chunks. Since we are not sure that each chunk captures a specific meaning in the document, having an overlap between chunks increases the chances of capturing the semantic meanings in one chunk."
      ]
    },
    {
      "cell_type": "markdown",
      "metadata": {
        "id": "w4tB4gp_OMgq"
      },
      "source": [
        "2. **Recursively split by character `RecursiveCharacterTextSplitter`**: This solves the problem of the first splitter by allowing splits using the more than one character. Ex: we can first split paragraphs, then if a paragraph exceeds the maximum `chunk_size` we split by sentences, and finally we split by words if necessary. This way we can ensure to meet the `chunk_size` limit."
      ]
    },
    {
      "cell_type": "markdown",
      "metadata": {
        "id": "WKKyoWbbOPpX"
      },
      "source": [
        "Check [this site](https://chunkviz.up.railway.app/) to see how the different parameters of a `text_splitter` work."
      ]
    },
    {
      "cell_type": "code",
      "execution_count": 6,
      "metadata": {
        "colab": {
          "base_uri": "https://localhost:8080/"
        },
        "id": "x1BK8mgu1daP",
        "outputId": "6f204d3b-aa36-4091-9340-9b85edb84f37"
      },
      "outputs": [
        {
          "output_type": "stream",
          "name": "stdout",
          "text": [
            "No. Chunks: 371\n"
          ]
        }
      ],
      "source": [
        "from langchain.text_splitter import RecursiveCharacterTextSplitter\n",
        "\n",
        "splitter = RecursiveCharacterTextSplitter(\n",
        "    chunk_size=2000,\n",
        "    chunk_overlap=30,\n",
        "    separators=[\"\\n\\n\", \"\\n\"]\n",
        "    )\n",
        "\n",
        "chunked_docs = splitter.split_documents(docs)\n",
        "\n",
        "print(f\"No. Chunks: {len(chunked_docs)}\")"
      ]
    },
    {
      "cell_type": "code",
      "execution_count": 7,
      "metadata": {
        "colab": {
          "base_uri": "https://localhost:8080/"
        },
        "id": "NeqUOagm6DFw",
        "outputId": "bf49c00c-7d7f-4dd8-cfa5-d5d5e8cd8ae4"
      },
      "outputs": [
        {
          "output_type": "stream",
          "name": "stdout",
          "text": [
            "Economics courses\n",
            "Games and Strategies - 10229 - ECON 201 - A\n",
            "Associated Term: Fall 2023-2024 \n",
            "Registration Dates:  No dates available  \n",
            "Levels: Doctorate, Undeclared, Scientific Preparatory, Undergraduate, Masters, Special Student, Exchange - Socrates Erasmus UG, Exchange - Erasmus Mundus MA, Exchange - Erasmus Mundus DR, Exchange - Erasmus Mundus UG \n",
            "Faculty: \n",
            "Course Offered by FASS\n",
            "Attributes: Lang. of Instruction: English, 6 ECTS, Course Offered by FASS \n",
            "Sabancı University Campus Campus\n",
            "Lecture Schedule Type\n",
            "       3.000 Credits\n",
            "|    | Type   | Time              | Days   | Where                                  | Date Range                  | Schedule Type   | Instructors        |\n",
            "|---:|:-------|:------------------|:-------|:---------------------------------------|:----------------------------|:----------------|:-------------------|\n",
            "|  0 | Class  | 1:40 pm - 2:30 pm | M      | Fac.of Arts and Social Sci. 1001-1001A | Oct 02, 2023 - Jan 05, 2024 | 2nd del         | Özgür   Kıbrıs (P) |\n",
            "|  1 | Class  | 2:40 pm - 4:30 pm | W      | Fac.of Arts and Social Sci. 1001-1001A | Oct 02, 2023 - Jan 05, 2024 | 1st del         | Özgür   Kıbrıs (P) |\n"
          ]
        }
      ],
      "source": [
        "print(chunked_docs[0].page_content)"
      ]
    },
    {
      "cell_type": "code",
      "execution_count": 8,
      "metadata": {
        "colab": {
          "base_uri": "https://localhost:8080/",
          "height": 472
        },
        "id": "M6YhLrcB4Lgs",
        "outputId": "b86d8efc-8c63-4a77-e65e-648ef255971a"
      },
      "outputs": [
        {
          "output_type": "display_data",
          "data": {
            "text/plain": [
              "<Figure size 640x480 with 1 Axes>"
            ],
            "image/png": "[encoded data removed]"
          },
          "metadata": {}
        }
      ],
      "source": [
        "# Let us visualize the length of the chunks distribution\n",
        "\n",
        "len_arr = [len(chunk.page_content) for chunk in chunked_docs]\n",
        "plt.hist(len_arr, color=\"gray\", alpha=0.7, bins=20)\n",
        "plt.title(\"Chunk Length Distribution\")\n",
        "plt.xlabel(\"Chunk Length (No. Characters)\")\n",
        "plt.ylabel(\"Frequency\")\n",
        "plt.show()"
      ]
    },
    {
      "cell_type": "markdown",
      "metadata": {
        "id": "B6Lx6sf_O3xd"
      },
      "source": [
        "How can we make sure that the chunk lengths are suitable for the mbedding model? **We need to measure their length by token length**. The embedding model that we will be using accepts a maximum of 512 tokens."
      ]
    },
    {
      "cell_type": "code",
      "execution_count": 9,
      "metadata": {
        "colab": {
          "base_uri": "https://localhost:8080/",
          "height": 272,
          "referenced_widgets": [
            "a1bbbb29697b4d418aa5e38ad387093b",
            "49c3ce4f11de4fb7afe3dfb86fb92b7a",
            "422e8c3a92f046229b3849df45a4673a",
            "d127fdc801a14a0eafa196e96d8fe8ae",
            "a8ac4e2fa55e498b9bc1e439f124f43d",
            "3a469b7bd6244e9699331f50c5716032",
            "d6f40a291e124640bc2fbf09f7ce80e9",
            "fbeb55d5692c43f1b678802066085598",
            "c4151aa3035c424eadb2cbc20685c633",
            "3aaca9e939d944e78f8bbc3a8179489b",
            "5aed7dbce70c4325b751dd30d92429ec",
            "aa63dba1aede4305a09494d5f10a7ba4",
            "01d372967e3f415e80a97025c7e1e6c4",
            "cd6f7a59856f4203aa4fa36108388c7f",
            "0e957efcb1b94c39b9f833e3b918a0de",
            "b694440298114867aca5f36b4977e28b",
            "a6016446b51c41de8881c2b072f054f0",
            "c7f5c12a16844415826cf20ddf11523b",
            "00436188284a41d699c02be9732c3059",
            "f139d0f0330241e791672a0f4d65ce32",
            "ad86ff4c7d9c4d9da8b0df565de3d844",
            "ed940e402b7f46f7a96f47045a0b6460",
            "8081b0cdd3f742188bdbe968d25ab6db",
            "1df4c52b293749c8a07559bdd008c015",
            "6fbac03fd9ba48798ad5fdedbf7ce522",
            "a8b2039aa69c4bc4baa420d6f18d8e87",
            "3a0dbb46079e4af49ab392137dcf6089",
            "6163eec1114f4318b42c9f3cfc6f118a",
            "67b2bdc6be7047f39300dd8a739c715d",
            "d91591047295487890022331f198fe1a",
            "111504efd8654896abc8075ec14bcdc3",
            "cf1cc26014954edd8ad03a2c9d9237a1",
            "525bd41bbc2442ed9986c9d81f10c601",
            "446026804d3d48ad876e889159e51545",
            "dcade849db9a4e76a3ab854f6f43a9ff",
            "d65897d022144e60bbe0ed75eaefc901",
            "0752b472136940be8410aae3d671c3e0",
            "a902685ce991450eb14477fd68fd5a66",
            "8431dd7520934fa1af63b464ae8e0c53",
            "997897a072c14cbba3365b7455dfd985",
            "6265ab830a9c4626ae5b777d8d384496",
            "8b4d6cd461ff473db8c20349826b358a",
            "2bd753f5f25b4b3dbc01c7c07a5c0b76",
            "28b03354843e4009aa318ea5db7cbee8"
          ]
        },
        "collapsed": true,
        "id": "O5pys_s6PLUM",
        "outputId": "5a040bab-4a3c-40b3-85c0-24f5eba177fd"
      },
      "outputs": [
        {
          "output_type": "stream",
          "name": "stderr",
          "text": [
            "/usr/local/lib/python3.11/dist-packages/huggingface_hub/utils/_auth.py:94: UserWarning: \n",
            "The secret `HF_TOKEN` does not exist in your Colab secrets.\n",
            "To authenticate with the Hugging Face Hub, create a token in your settings tab (https://huggingface.co/settings/tokens), set it as secret in your Google Colab and restart your session.\n",
            "You will be able to reuse this secret in all of your notebooks.\n",
            "Please note that authentication is recommended but still optional to access public models or datasets.\n",
            "  warnings.warn(\n"
          ]
        },
        {
          "output_type": "display_data",
          "data": {
            "text/plain": [
              "tokenizer_config.json:   0%|          | 0.00/366 [00:00<?, ?B/s]"
            ],
            "application/vnd.jupyter.widget-view+json": {
              "version_major": 2,
              "version_minor": 0,
              "model_id": "a1bbbb29697b4d418aa5e38ad387093b"
            }
          },
          "metadata": {}
        },
        {
          "output_type": "display_data",
          "data": {
            "text/plain": [
              "vocab.txt: 0.00B [00:00, ?B/s]"
            ],
            "application/vnd.jupyter.widget-view+json": {
              "version_major": 2,
              "version_minor": 0,
              "model_id": "aa63dba1aede4305a09494d5f10a7ba4"
            }
          },
          "metadata": {}
        },
        {
          "output_type": "display_data",
          "data": {
            "text/plain": [
              "tokenizer.json: 0.00B [00:00, ?B/s]"
            ],
            "application/vnd.jupyter.widget-view+json": {
              "version_major": 2,
              "version_minor": 0,
              "model_id": "8081b0cdd3f742188bdbe968d25ab6db"
            }
          },
          "metadata": {}
        },
        {
          "output_type": "display_data",
          "data": {
            "text/plain": [
              "special_tokens_map.json:   0%|          | 0.00/125 [00:00<?, ?B/s]"
            ],
            "application/vnd.jupyter.widget-view+json": {
              "version_major": 2,
              "version_minor": 0,
              "model_id": "446026804d3d48ad876e889159e51545"
            }
          },
          "metadata": {}
        }
      ],
      "source": [
        "from transformers import AutoTokenizer\n",
        "\n",
        "embedding_model_id = 'BAAI/bge-base-en-v1.5'\n",
        "\n",
        "tokenizer = AutoTokenizer.from_pretrained(embedding_model_id)"
      ]
    },
    {
      "cell_type": "code",
      "execution_count": 11,
      "metadata": {
        "colab": {
          "base_uri": "https://localhost:8080/"
        },
        "id": "h1fWgG7xPWH4",
        "outputId": "a8533563-4356-43b4-9572-33f159063a01"
      },
      "outputs": [
        {
          "output_type": "execute_result",
          "data": {
            "text/plain": [
              "['[CLS]', 'hello', 'this', 'is', 'a', 'textual', 'message', '[SEP]']"
            ]
          },
          "metadata": {},
          "execution_count": 11
        }
      ],
      "source": [
        "# Tokenizer reminder\n",
        "text = \"Hello this is a textual message\"\n",
        "token_ids = tokenizer.encode(text)\n",
        "tokenizer.convert_ids_to_tokens(token_ids)"
      ]
    },
    {
      "cell_type": "code",
      "execution_count": 12,
      "metadata": {
        "id": "dRR2GCJYP3YX"
      },
      "outputs": [],
      "source": [
        "def get_num_tokens(text):\n",
        "  return len(tokenizer.encode(text))"
      ]
    },
    {
      "cell_type": "code",
      "execution_count": 13,
      "metadata": {
        "colab": {
          "base_uri": "https://localhost:8080/",
          "height": 510
        },
        "id": "V804pnZ5QCbE",
        "outputId": "0c5a341b-f9c8-42b1-b5c3-5d87ccecfdee"
      },
      "outputs": [
        {
          "output_type": "stream",
          "name": "stderr",
          "text": [
            "Token indices sequence length is longer than the specified maximum sequence length for this model (691 > 512). Running this sequence through the model will result in indexing errors\n"
          ]
        },
        {
          "output_type": "display_data",
          "data": {
            "text/plain": [
              "<Figure size 640x480 with 1 Axes>"
            ],
            "image/png": "[encoded data removed]"
          },
          "metadata": {}
        }
      ],
      "source": [
        "len_arr = [get_num_tokens(chunk.page_content) for chunk in chunked_docs]\n",
        "plt.hist(len_arr, color=\"gray\", alpha=0.7, bins=20)\n",
        "plt.axvline(512, color=\"red\", linestyle=\"--\", lw=2)\n",
        "plt.title(\"Chunk Length Distribution\")\n",
        "plt.xlabel(\"Chunk Length (No. Characters)\")\n",
        "plt.ylabel(\"Frequency\")\n",
        "plt.show()"
      ]
    },
    {
      "cell_type": "code",
      "execution_count": 14,
      "metadata": {
        "colab": {
          "base_uri": "https://localhost:8080/"
        },
        "id": "aNBmw--LQS-w",
        "outputId": "562b59cb-0298-4175-c04d-0ab895269b89"
      },
      "outputs": [
        {
          "output_type": "stream",
          "name": "stdout",
          "text": [
            "No. Chunks: 393\n"
          ]
        }
      ],
      "source": [
        "splitter = RecursiveCharacterTextSplitter(\n",
        "    chunk_size=512,\n",
        "    chunk_overlap=30,\n",
        "    separators=[\"\\n\\n\", \"\\n\"],\n",
        "    length_function=get_num_tokens\n",
        "    )\n",
        "\n",
        "chunked_docs = splitter.split_documents(docs)\n",
        "\n",
        "print(f\"No. Chunks: {len(chunked_docs)}\")"
      ]
    },
    {
      "cell_type": "code",
      "execution_count": 15,
      "metadata": {
        "colab": {
          "base_uri": "https://localhost:8080/",
          "height": 472
        },
        "id": "Wj9_BzesQjPN",
        "outputId": "b19dd0ee-e87d-4c76-b58f-0ed2e2b7669a"
      },
      "outputs": [
        {
          "output_type": "display_data",
          "data": {
            "text/plain": [
              "<Figure size 640x480 with 1 Axes>"
            ],
            "image/png": "[encoded data removed]"
          },
          "metadata": {}
        }
      ],
      "source": [
        "len_arr = [get_num_tokens(chunk.page_content) for chunk in chunked_docs]\n",
        "plt.hist(len_arr, color=\"gray\", alpha=0.7, bins=20)\n",
        "plt.axvline(512, color=\"red\", linestyle=\"--\", lw=2)\n",
        "plt.title(\"Chunk Length Distribution\")\n",
        "plt.xlabel(\"Chunk Length (No. Characters)\")\n",
        "plt.ylabel(\"Frequency\")\n",
        "plt.show()"
      ]
    },
    {
      "cell_type": "markdown",
      "metadata": {
        "id": "qhUL6qKmN6jd"
      },
      "source": [
        "## Text embedding\n",
        "* Extensive introduction to sentence embeddings\n",
        "* [Text Embedding - LangChain](https://python.langchain.com/docs/modules/data_connection/text_embedding/)\n",
        "* Follow the steps here to get an API key to use Google Gemini: [Google Gemini quick start](https://ai.google.dev/tutorials/python_quickstart)\n",
        "\n",
        "Now that we have divided our text into chunks, we need to pass these chunks into an embedding model to get their respective embeddings. We can use any LLM that provides embeddings to sentences. This includes models on the cloud accessible through API, such as OpenAI ChatGPT and Google Gemini, or local models. You can see the models supported by the LangChain library [here](https://python.langchain.com/docs/integrations/text_embedding). The choice of the embedding model is usually limited by the following factors:\n",
        "* **Privacy concerns:** If we are dealing with private data, regulations may not allow us to send the data to commercial LLM services such as ChatGPT or Gemini.\n",
        "* **Available computational power:** If we opt to use local models, we need to choose a model that can be run on the available hardware.\n",
        "* **Latency:** Which is the time required to process a query and generate embeddings. See this article for more details on the latency of LLMs ([link](https://www.databricks.com/blog/llm-inference-performance-engineering-best-practices)).\n",
        "* **Context length**: Which is the maximum number of tokens that a model can process. This is more of a concern for the generating LLm rather than the embedding LLM since we usually embed the documents at the sentence level."
      ]
    },
    {
      "cell_type": "markdown",
      "metadata": {
        "id": "vV8LV6kthBF9"
      },
      "source": [
        "1. **Using LLM API**\n",
        "\n",
        "Check [tutorial](https://ai.google.dev/tutorials/python_quickstart) on how to setup and use Gemini API."
      ]
    },
    {
      "cell_type": "code",
      "execution_count": 16,
      "metadata": {
        "colab": {
          "base_uri": "https://localhost:8080/"
        },
        "id": "kjnFjg_aMG-x",
        "outputId": "11becdd5-79c8-439e-dbc5-93acbeaed561"
      },
      "outputs": [
        {
          "output_type": "stream",
          "name": "stdout",
          "text": [
            "\u001b[?25l   \u001b[90m━━━━━━━━━━━━━━━━━━━━━━━━━━━━━━━━━━━━━━━━\u001b[0m \u001b[32m0.0/47.8 kB\u001b[0m \u001b[31m?\u001b[0m eta \u001b[36m-:--:--\u001b[0m\r\u001b[2K   \u001b[90m━━━━━━━━━━━━━━━━━━━━━━━━━━━━━━━━━━━━━━━━\u001b[0m \u001b[32m47.8/47.8 kB\u001b[0m \u001b[31m4.2 MB/s\u001b[0m eta \u001b[36m0:00:00\u001b[0m\n",
            "\u001b[?25h\u001b[?25l   \u001b[90m━━━━━━━━━━━━━━━━━━━━━━━━━━━━━━━━━━━━━━━━\u001b[0m \u001b[32m0.0/1.4 MB\u001b[0m \u001b[31m?\u001b[0m eta \u001b[36m-:--:--\u001b[0m\r\u001b[2K   \u001b[90m━━━━━━━━━━━━━━━━━━━━━━━━━━━━━━━━━━━━━━━━\u001b[0m \u001b[32m1.4/1.4 MB\u001b[0m \u001b[31m64.8 MB/s\u001b[0m eta \u001b[36m0:00:00\u001b[0m\n",
            "\u001b[?25h\u001b[31mERROR: pip's dependency resolver does not currently take into account all the packages that are installed. This behaviour is the source of the following dependency conflicts.\n",
            "google-generativeai 0.8.5 requires google-ai-generativelanguage==0.6.15, but you have google-ai-generativelanguage 0.6.18 which is incompatible.\u001b[0m\u001b[31m\n",
            "\u001b[2K   \u001b[90m━━━━━━━━━━━━━━━━━━━━━━━━━━━━━━━━━━━━━━━━\u001b[0m \u001b[32m1.3/1.3 MB\u001b[0m \u001b[31m59.4 MB/s\u001b[0m eta \u001b[36m0:00:00\u001b[0m\n",
            "\u001b[?25h\u001b[31mERROR: pip's dependency resolver does not currently take into account all the packages that are installed. This behaviour is the source of the following dependency conflicts.\n",
            "langchain-google-genai 2.1.8 requires google-ai-generativelanguage<0.7.0,>=0.6.18, but you have google-ai-generativelanguage 0.6.15 which is incompatible.\u001b[0m\u001b[31m\n",
            "\u001b[0m"
          ]
        }
      ],
      "source": [
        "!pip install -q -U langchain-google-genai\n",
        "!pip install -q -U google-generativeai"
      ]
    },
    {
      "cell_type": "code",
      "execution_count": 17,
      "metadata": {
        "id": "QHomhJs5O7aI"
      },
      "outputs": [],
      "source": [
        "import google.generativeai as genai\n",
        "from google.colab import userdata\n",
        "import os\n",
        "\n",
        "GOOGLE_API_KEY = userdata.get('GOOGLE_API_KEY')\n",
        "os.environ['GOOGLE_API_KEY'] = GOOGLE_API_KEY\n",
        "genai.configure(api_key=GOOGLE_API_KEY)"
      ]
    },
    {
      "cell_type": "markdown",
      "metadata": {
        "id": "e9O_LtkxVVLF"
      },
      "source": [
        "LangChain provides wrappers for several embedding models. Each of these classes have the methods `embed_query` and `embed_document` to compute embeddings for queries and documents, respectively."
      ]
    },
    {
      "cell_type": "code",
      "execution_count": 18,
      "metadata": {
        "colab": {
          "base_uri": "https://localhost:8080/"
        },
        "id": "mbLTUMwoQn2W",
        "outputId": "d05d6e5f-8281-4555-9de8-6eae3eacaf84"
      },
      "outputs": [
        {
          "output_type": "stream",
          "name": "stdout",
          "text": [
            "768\n"
          ]
        },
        {
          "output_type": "execute_result",
          "data": {
            "text/plain": [
              "[0.05636945366859436,\n",
              " 0.004828543867915869,\n",
              " -0.07625909894704819,\n",
              " -0.023642510175704956,\n",
              " 0.053293220698833466]"
            ]
          },
          "metadata": {},
          "execution_count": 18
        }
      ],
      "source": [
        "from langchain_google_genai import GoogleGenerativeAIEmbeddings\n",
        "\n",
        "embedding_model = GoogleGenerativeAIEmbeddings(model=\"models/embedding-001\")\n",
        "\n",
        "# Computing query embeddings\n",
        "vector = embedding_model.embed_query(\"hello, world!\")\n",
        "print(len(vector))\n",
        "vector[:5]"
      ]
    },
    {
      "cell_type": "code",
      "execution_count": 19,
      "metadata": {
        "id": "eAJ-DbQBUN-i"
      },
      "outputs": [],
      "source": [
        "# Example\n",
        "query = \"What is the capital of America?\"\n",
        "chunks = [\n",
        "    \"Washington D.C. is the capital of the USA\",\n",
        "    \"Rates of return on invested capital were high\",\n",
        "    \"American football is popular in India\",\n",
        "    \"The White House is in Washington, D.C.\",\n",
        "    \"Cats are better pets than dogs\"\n",
        "]\n",
        "\n",
        "query_embedding = embedding_model.embed_query(query)\n",
        "chunk_embeddings = embedding_model.embed_documents(chunks)"
      ]
    },
    {
      "cell_type": "code",
      "execution_count": 20,
      "metadata": {
        "colab": {
          "base_uri": "https://localhost:8080/"
        },
        "id": "y-l0J0t2QrZY",
        "outputId": "1a08e5d6-7720-42db-e3df-e3fa6bf4dc5d"
      },
      "outputs": [
        {
          "output_type": "stream",
          "name": "stdout",
          "text": [
            "Washington D.C. is the capital of the USA: 0.850\n",
            "Rates of return on invested capital were high: 0.676\n",
            "American football is popular in India: 0.743\n",
            "The White House is in Washington, D.C.: 0.772\n",
            "Cats are better pets than dogs: 0.710\n"
          ]
        }
      ],
      "source": [
        "# Computing similarities\n",
        "from sklearn.metrics.pairwise import cosine_similarity\n",
        "\n",
        "for chunk, chunk_embedding in zip(chunks, chunk_embeddings):\n",
        "  similarity = cosine_similarity([query_embedding], [chunk_embedding])[0][0]\n",
        "  print(f\"{chunk}: {similarity:.3f}\")"
      ]
    },
    {
      "cell_type": "markdown",
      "metadata": {
        "id": "Ewn5vAgliRxJ"
      },
      "source": [
        "2. **Using a local model:**\n",
        "\n",
        "For the local model, we will use Sentence-BERT ([link to original paper](https://arxiv.org/abs/1908.10084)) to generate embeddings. Several pretrained models of this structure are provided through the `sentence_transformers` library ([link to documentation](https://www.sbert.net/))."
      ]
    },
    {
      "cell_type": "code",
      "execution_count": 21,
      "metadata": {
        "colab": {
          "base_uri": "https://localhost:8080/",
          "height": 241,
          "referenced_widgets": [
            "12b9e25cf1684d8393999deabb5168fc",
            "4402e5f9c16045d6ac93d26026fd50d5",
            "dda25cf6433348ecad6e49290fda6072",
            "28f67b449f68480eae54485003c0b0e4",
            "d99916e7ae7f4735a007fa35044b4f19",
            "eb3e1f19efdb4c819c57c5e13319b02c",
            "c9a2ea54b2c54e079cf0ff26bcc291b0",
            "12efe40eb6994fcea633076fc48e3e88",
            "541da1a11bca4442873fab5132db9046",
            "bca247a9ad924b14ad50cf3d09e85519",
            "a9c7ff09ca0a4544922401591d9bf31d",
            "468c598d53624d098507cd4c96c79931",
            "18431ccced1e4eeab3dbe26bfa04d3c9",
            "5a72af2b25a4413eb37ec04332288613",
            "ef0baaaa304f437cafdc72263a9285f3",
            "a67c682edc914117aaf8d5b59296c74c",
            "e1493cb2df174331873d521074250659",
            "888d23c1e4c44fe4a32bcd1ce765ebec",
            "4f2b9f54d26048b3bd26bff5c1958d7e",
            "97787f9922044ab99939610a05431df9",
            "37b19ffdb62043a0a1f5db0e32612f1f",
            "7ca41fc8803f45a398a970b3c33a790f",
            "491de024d54c41c5a1ac37a88a2942d6",
            "5e22c022e2834801b1ced86521818ac1",
            "668daf06aba4470eae71bdae33c902a6",
            "5e4381aa7ad648fb990a9028e440ba47",
            "26265970e6954580b3f1f41ec4de9193",
            "e9423b5c020c4282909f8e4a1be8fc85",
            "57347aa5c58d4a168b6a1894da66e22b",
            "972b5726405d4564a77a36202bcbf6a1",
            "c88ea5db7753473dbc19a6bd9d364005",
            "04e23e2dc0a3417f89a72d98fc9987bc",
            "6b38859921614bc78a4637a998370c81",
            "0f6912323ed44cc6a7e48ee6271192df",
            "930e268b14394fabb3bbec7909fab9e8",
            "ef3d6883e643498587ee956dbdd6af15",
            "da92c3c8363646d09bcb1a26573ca7cd",
            "1afbb08723b4414f8bd6238dcac8d4cc",
            "551c8552741242f29c54ad02bb116b08",
            "5af46df7798c4745b91e0461e8228f72",
            "1ecedb1c06cc46c6bc41d92a36fb688a",
            "9d8df02f9f504fb28440f649cc168993",
            "24413097e46942e4a6ce924db041b6a2",
            "6acc8767bda048a598e2c924f93e22e9",
            "db5c7628946f402b8a2923e953cb3592",
            "6cc78e121cb642f7a57d4820e548d9e1",
            "5faf058ce26243d7bebf55c9ac8089c3",
            "7b03b7a683f14d48a7f6f58f26a5a132",
            "5f1e0bf66a9347f791ac076e5ce4c96b",
            "95e373230cae46c3a02778aab27c68d3",
            "8e5d66327c3642bd8fa7adc53b148b74",
            "7326143905e746579337a36de5da1ee2",
            "05f9b59d0fbb456eb33c8d43da17715d",
            "6ca1dee288104e2484d9427ff031b786",
            "a36447d4e7064ea0b928f6c178edc6fa",
            "b78b8035651c46148fcd55ddcf8891d0",
            "d30376572b224f4ca16ae6e7279c9aae",
            "cfd147fd9969462eb5fc9afe1b430cbf",
            "1fa83cadb62a41cabf300284aa5365be",
            "fe9f660acf924707a2514b56f3bc53c7",
            "3671c46d1a59437db8c70b3244cc2404",
            "b2e7060bfcf24fdda0e8d361b06dbb7a",
            "5a5fd97d894e47139369914034fd369c",
            "f28d0a27581d4721a205c17d848b6ab4",
            "e9ade83317234511b6da27e1a5f67520",
            "015a4862974d4b7f89ec4bd3c305ef2b",
            "49d7253e03d24935bd299af282ceb6d0",
            "cd1e1be70fbd4f00b502f3af3fed6668",
            "a76105aa83ee47dab04ba94991d78fd8",
            "94c694665c0243d78b982a777e5c3ae2",
            "47b9c45f2e2641f0946ace18c039601a",
            "7f563e03cc514b05b3150fa8b3e16891",
            "dfb0bb2a924c4860a8211e3da401ebe2",
            "ae0e9c3012424c3f81cc1d235db6fa4f",
            "9e8c718436a64750ba5dc478ba18a457",
            "17ad901da6ed442195fca65d9a188e98",
            "90c1adb2c7ff4031b52c4c8383fe2e49"
          ]
        },
        "id": "xJbDsxDt7hJl",
        "outputId": "eeb7a954-332f-438a-dc9d-4745c1b3736a"
      },
      "outputs": [
        {
          "output_type": "display_data",
          "data": {
            "text/plain": [
              "modules.json:   0%|          | 0.00/349 [00:00<?, ?B/s]"
            ],
            "application/vnd.jupyter.widget-view+json": {
              "version_major": 2,
              "version_minor": 0,
              "model_id": "12b9e25cf1684d8393999deabb5168fc"
            }
          },
          "metadata": {}
        },
        {
          "output_type": "display_data",
          "data": {
            "text/plain": [
              "config_sentence_transformers.json:   0%|          | 0.00/124 [00:00<?, ?B/s]"
            ],
            "application/vnd.jupyter.widget-view+json": {
              "version_major": 2,
              "version_minor": 0,
              "model_id": "468c598d53624d098507cd4c96c79931"
            }
          },
          "metadata": {}
        },
        {
          "output_type": "display_data",
          "data": {
            "text/plain": [
              "README.md: 0.00B [00:00, ?B/s]"
            ],
            "application/vnd.jupyter.widget-view+json": {
              "version_major": 2,
              "version_minor": 0,
              "model_id": "491de024d54c41c5a1ac37a88a2942d6"
            }
          },
          "metadata": {}
        },
        {
          "output_type": "display_data",
          "data": {
            "text/plain": [
              "sentence_bert_config.json:   0%|          | 0.00/52.0 [00:00<?, ?B/s]"
            ],
            "application/vnd.jupyter.widget-view+json": {
              "version_major": 2,
              "version_minor": 0,
              "model_id": "0f6912323ed44cc6a7e48ee6271192df"
            }
          },
          "metadata": {}
        },
        {
          "output_type": "display_data",
          "data": {
            "text/plain": [
              "config.json:   0%|          | 0.00/777 [00:00<?, ?B/s]"
            ],
            "application/vnd.jupyter.widget-view+json": {
              "version_major": 2,
              "version_minor": 0,
              "model_id": "db5c7628946f402b8a2923e953cb3592"
            }
          },
          "metadata": {}
        },
        {
          "output_type": "display_data",
          "data": {
            "text/plain": [
              "model.safetensors:   0%|          | 0.00/438M [00:00<?, ?B/s]"
            ],
            "application/vnd.jupyter.widget-view+json": {
              "version_major": 2,
              "version_minor": 0,
              "model_id": "b78b8035651c46148fcd55ddcf8891d0"
            }
          },
          "metadata": {}
        },
        {
          "output_type": "display_data",
          "data": {
            "text/plain": [
              "config.json:   0%|          | 0.00/190 [00:00<?, ?B/s]"
            ],
            "application/vnd.jupyter.widget-view+json": {
              "version_major": 2,
              "version_minor": 0,
              "model_id": "49d7253e03d24935bd299af282ceb6d0"
            }
          },
          "metadata": {}
        }
      ],
      "source": [
        "from langchain_huggingface import HuggingFaceEmbeddings\n",
        "embedding_model_id = 'BAAI/bge-base-en-v1.5'\n",
        "\n",
        "embedding_model = HuggingFaceEmbeddings(model_name=embedding_model_id, model_kwargs={'device': 'cuda'})"
      ]
    },
    {
      "cell_type": "code",
      "execution_count": 22,
      "metadata": {
        "id": "8x0EJPBo7lR1",
        "colab": {
          "base_uri": "https://localhost:8080/"
        },
        "outputId": "f0195fa3-d7cb-4e65-ccd4-43dc33471a6a"
      },
      "outputs": [
        {
          "output_type": "stream",
          "name": "stderr",
          "text": [
            "/usr/local/lib/python3.11/dist-packages/torch/nn/modules/module.py:1750: FutureWarning: `encoder_attention_mask` is deprecated and will be removed in version 4.55.0 for `BertSdpaSelfAttention.forward`.\n",
            "  return forward_call(*args, **kwargs)\n"
          ]
        }
      ],
      "source": [
        "# Example\n",
        "query = \"What is the capital of America?\"\n",
        "chunks = [\n",
        "    \"Washington D.C. is the capital of the USA\",\n",
        "    \"Rates of return on invested capital were high\",\n",
        "    \"American football is popular in India\",\n",
        "    \"The White House is in Washington, D.C.\",\n",
        "    \"Cats are better pets than dogs\"\n",
        "]\n",
        "\n",
        "query_embedding = embedding_model.embed_query(query)\n",
        "chunk_embeddings = embedding_model.embed_documents(chunks)"
      ]
    },
    {
      "cell_type": "code",
      "execution_count": 24,
      "metadata": {
        "colab": {
          "base_uri": "https://localhost:8080/"
        },
        "id": "u0cZlj9J8US6",
        "outputId": "6157d5dc-0892-4488-889c-e1f97cc41f57"
      },
      "outputs": [
        {
          "output_type": "stream",
          "name": "stdout",
          "text": [
            "Washington D.C. is the capital of the USA: 0.820\n",
            "Rates of return on invested capital were high: 0.396\n",
            "American football is popular in India: 0.447\n",
            "The White House is in Washington, D.C.: 0.635\n",
            "Cats are better pets than dogs: 0.408\n"
          ]
        }
      ],
      "source": [
        "from sklearn.metrics.pairwise import cosine_similarity\n",
        "\n",
        "for chunk, chunk_embedding in zip(chunks, chunk_embeddings):\n",
        "  similarity = cosine_similarity([query_embedding], [chunk_embedding])[0][0]\n",
        "  print(f\"{chunk}: {similarity:.3f}\")"
      ]
    },
    {
      "cell_type": "code",
      "execution_count": 33,
      "metadata": {
        "colab": {
          "base_uri": "https://localhost:8080/"
        },
        "id": "EycdD-un9Ac-",
        "outputId": "a19e3fb0-548f-420b-ab75-8278d4c28e18"
      },
      "outputs": [
        {
          "output_type": "stream",
          "name": "stdout",
          "text": [
            "512\n"
          ]
        }
      ],
      "source": [
        "# Checking maximum sequence length\n",
        "from transformers import AutoTokenizer\n",
        "tokenizer = AutoTokenizer.from_pretrained(embedding_model_id)\n",
        "print(tokenizer.model_max_length)"
      ]
    },
    {
      "cell_type": "markdown",
      "metadata": {
        "id": "LJCufSJjXBKm"
      },
      "source": [
        "## Vector Stores\n",
        "Now that we have created embeddings for the document chunks, we need to store them in a database that allows us to quickly retrieve the most similar text chunk embeddings to a given query embedding. A vector store is a database type that is used to save high dimensional numerical vectors, i.e., embeddings. These databases allow for very fast retrieval of the most similar $k$ vectors to a query vector. The speed of retrieval is attributed to the usage of approximate nearest neighbour (ANN) alogorithms rather than the expensive K-nearest neighbour algorithm.\n",
        "\n",
        "LangChain integrates several open-source vector stores ([link](https://python.langchain.com/docs/modules/data_connection/vectorstores/))."
      ]
    },
    {
      "cell_type": "code",
      "execution_count": 34,
      "metadata": {
        "id": "b2KuxlSd5sU8",
        "colab": {
          "base_uri": "https://localhost:8080/"
        },
        "outputId": "ade62d65-cd24-4959-9b5a-c2ac838b6371"
      },
      "outputs": [
        {
          "output_type": "stream",
          "name": "stderr",
          "text": [
            "/usr/local/lib/python3.11/dist-packages/torch/nn/modules/module.py:1750: FutureWarning: `encoder_attention_mask` is deprecated and will be removed in version 4.55.0 for `BertSdpaSelfAttention.forward`.\n",
            "  return forward_call(*args, **kwargs)\n"
          ]
        }
      ],
      "source": [
        "from langchain_chroma import Chroma\n",
        "\n",
        "db = Chroma.from_documents(chunked_docs, embedding_model)"
      ]
    },
    {
      "cell_type": "code",
      "execution_count": 35,
      "metadata": {
        "id": "dg0WRUas7BPI"
      },
      "outputs": [],
      "source": [
        "# Creating retriever\n",
        "retriever = db.as_retriever(\n",
        "    search_type=\"similarity\",\n",
        "    search_kwargs={'k': 6}\n",
        ")"
      ]
    },
    {
      "cell_type": "code",
      "execution_count": 36,
      "metadata": {
        "colab": {
          "base_uri": "https://localhost:8080/"
        },
        "id": "Eo8GSW_i9n0S",
        "outputId": "bd9ba0db-80df-42e7-b799-76b9fefeeafc"
      },
      "outputs": [
        {
          "output_type": "stream",
          "name": "stdout",
          "text": [
            "Computer Science courses\n",
            "Introduction to Data Science Recitation - 10093 - CS 210R - D\n",
            "Associated Term: Fall 2023-2024 \n",
            "Registration Dates:  No dates available  \n",
            "Levels: Doctorate, Undeclared, Scientific Preparatory, Undergraduate, Masters, Special Student, Exchange - Socrates Erasmus UG, Exchange - Socrates Erasmus MA, Exchange - Socrates Erasmus DR, Exchange - Erasmus Mundus MA, Exchange - Erasmus Mundus DR, Exchange - Erasmus Mundus UG \n",
            "Faculty: \n",
            "Course Offered by FENS\n",
            "Attributes: Lang. of Instruction: English, Course Offered by FENS \n",
            "Sabancı University Campus Campus\n",
            "Recitation Schedule Type\n",
            "       0.000 Credits\n",
            "|    | Type   | Time              | Days   | Where                             | Date Range                  | Schedule Type   | Instructors                                                                             |\n",
            "|---:|:-------|:------------------|:-------|:----------------------------------|:----------------------------|:----------------|:----------------------------------------------------------------------------------------|\n",
            "|  0 | Class  | 4:40 pm - 6:30 pm | T      | Fac. of Engin. and Nat. Sci. G035 | Oct 02, 2023 - Jan 05, 2024 | 1st del         | Onur   Varol (P), Kerem   Aydın , Damla   Erden , Halil İbrahim  Ergül , Mansur   Kiraz |\n"
          ]
        },
        {
          "output_type": "stream",
          "name": "stderr",
          "text": [
            "/usr/local/lib/python3.11/dist-packages/torch/nn/modules/module.py:1750: FutureWarning: `encoder_attention_mask` is deprecated and will be removed in version 4.55.0 for `BertSdpaSelfAttention.forward`.\n",
            "  return forward_call(*args, **kwargs)\n"
          ]
        }
      ],
      "source": [
        "relevant_docs = retriever.invoke(\"Who is the instructor of the Intro to Data Science course in Fall 2023?\")\n",
        "print(relevant_docs[0].page_content)"
      ]
    },
    {
      "cell_type": "markdown",
      "metadata": {
        "id": "nMaiLO12_NBG"
      },
      "source": [
        "## Generative model\n",
        "The final step is to have a generative LLM that we can chat with. In this tutorial we will use Google's Gemini model. You can check the API rate limits and pricing [here](https://ai.google.dev/pricing)."
      ]
    },
    {
      "cell_type": "code",
      "execution_count": 37,
      "metadata": {
        "colab": {
          "base_uri": "https://localhost:8080/",
          "height": 1000
        },
        "id": "7Fszd2NwA_pG",
        "outputId": "750481a6-e845-413e-cb74-0ca073d9805f"
      },
      "outputs": [
        {
          "output_type": "stream",
          "name": "stdout",
          "text": [
            "models/embedding-gecko-001\n",
            "models/gemini-1.5-pro-latest\n",
            "models/gemini-1.5-pro-002\n",
            "models/gemini-1.5-pro\n",
            "models/gemini-1.5-flash-latest\n",
            "models/gemini-1.5-flash\n",
            "models/gemini-1.5-flash-002\n",
            "models/gemini-1.5-flash-8b\n",
            "models/gemini-1.5-flash-8b-001\n",
            "models/gemini-1.5-flash-8b-latest\n",
            "models/gemini-2.5-pro-preview-03-25\n",
            "models/gemini-2.5-flash-preview-05-20\n",
            "models/gemini-2.5-flash\n",
            "models/gemini-2.5-flash-lite-preview-06-17\n",
            "models/gemini-2.5-pro-preview-05-06\n",
            "models/gemini-2.5-pro-preview-06-05\n",
            "models/gemini-2.5-pro\n",
            "models/gemini-2.0-flash-exp\n",
            "models/gemini-2.0-flash\n",
            "models/gemini-2.0-flash-001\n",
            "models/gemini-2.0-flash-exp-image-generation\n",
            "models/gemini-2.0-flash-lite-001\n",
            "models/gemini-2.0-flash-lite\n",
            "models/gemini-2.0-flash-preview-image-generation\n",
            "models/gemini-2.0-flash-lite-preview-02-05\n",
            "models/gemini-2.0-flash-lite-preview\n",
            "models/gemini-2.0-pro-exp\n",
            "models/gemini-2.0-pro-exp-02-05\n",
            "models/gemini-exp-1206\n",
            "models/gemini-2.0-flash-thinking-exp-01-21\n",
            "models/gemini-2.0-flash-thinking-exp\n",
            "models/gemini-2.0-flash-thinking-exp-1219\n",
            "models/gemini-2.5-flash-preview-tts\n",
            "models/gemini-2.5-pro-preview-tts\n",
            "models/learnlm-2.0-flash-experimental\n",
            "models/gemma-3-1b-it\n",
            "models/gemma-3-4b-it\n",
            "models/gemma-3-12b-it\n",
            "models/gemma-3-27b-it\n",
            "models/gemma-3n-e4b-it\n",
            "models/gemma-3n-e2b-it\n",
            "models/gemini-2.5-flash-lite\n",
            "models/embedding-001\n",
            "models/text-embedding-004\n",
            "models/gemini-embedding-exp-03-07\n",
            "models/gemini-embedding-exp\n",
            "models/gemini-embedding-001\n",
            "models/aqa\n",
            "models/imagen-3.0-generate-002\n",
            "models/imagen-4.0-generate-preview-06-06\n",
            "models/imagen-4.0-ultra-generate-preview-06-06\n",
            "models/veo-2.0-generate-001\n",
            "models/veo-3.0-generate-preview\n",
            "models/veo-3.0-fast-generate-preview\n",
            "models/gemini-2.5-flash-preview-native-audio-dialog\n",
            "models/gemini-2.5-flash-exp-native-audio-thinking-dialog\n",
            "models/gemini-2.0-flash-live-001\n",
            "models/gemini-live-2.5-flash-preview\n",
            "models/gemini-2.5-flash-live-preview\n"
          ]
        }
      ],
      "source": [
        "import google.generativeai as genai\n",
        "\n",
        "for model in genai.list_models():\n",
        "  print(model.name)"
      ]
    },
    {
      "cell_type": "code",
      "execution_count": 38,
      "metadata": {
        "colab": {
          "base_uri": "https://localhost:8080/"
        },
        "id": "APCcvMQxAmwp",
        "outputId": "23cc3fef-2c35-47b8-ba6c-b963e4cb2102"
      },
      "outputs": [
        {
          "output_type": "stream",
          "name": "stdout",
          "text": [
            "RAG stands for **Retrieval Augmented Generation**.  It's a technique used in large language models (LLMs) to improve their accuracy, context awareness, and factual grounding.  Instead of relying solely on the knowledge embedded within the model's parameters during training, RAG augments the model's capabilities by retrieving relevant information from an external knowledge base at the time of query.\n",
            "\n",
            "Here's how it works:\n",
            "\n",
            "1. **Query:** A user submits a query to the LLM.\n",
            "2. **Retrieval:** A retrieval system (e.g., a vector database or a search engine) searches the external knowledge base for documents relevant to the query.  This often involves embedding both the query and the documents in a vector space and finding documents with similar embeddings.\n",
            "3. **Augmentation:** The retrieved documents are then provided as context to the LLM along with the original query.\n",
            "4. **Generation:** The LLM generates its response, leveraging both its internal knowledge and the information from the retrieved documents.\n",
            "\n",
            "**Benefits of RAG:**\n",
            "\n",
            "* **Improved Accuracy:** By accessing external knowledge, RAG helps LLMs avoid hallucinations (generating factually incorrect information) and provide more accurate responses.\n",
            "* **Enhanced Context Awareness:**  RAG allows the LLM to consider specific and relevant information, leading to more nuanced and contextually appropriate responses.\n",
            "* **Factual Grounding:** RAG ensures that the LLM's responses are grounded in real-world data and evidence.\n",
            "* **Up-to-date Information:**  The external knowledge base can be easily updated, allowing the LLM to access the latest information.\n",
            "\n",
            "**Challenges of RAG:**\n",
            "\n",
            "* **Retrieval System Performance:** The effectiveness of RAG heavily relies on the quality and performance of the retrieval system.  Poor retrieval can lead to irrelevant or missing information.\n",
            "* **Latency:** Retrieving information from an external source adds latency to the response generation process.\n",
            "* **Cost:** Maintaining and querying a large external knowledge base can be expensive.\n",
            "* **Bias and Toxicity:** If the knowledge base contains biased or toxic information, the LLM's responses may reflect those biases.\n",
            "\n",
            "\n",
            "In short, RAG is a powerful technique that significantly improves the capabilities of LLMs, making them more reliable and informative, but it also introduces new challenges that need to be carefully addressed.\n"
          ]
        }
      ],
      "source": [
        "from langchain_google_genai import ChatGoogleGenerativeAI\n",
        "\n",
        "model_id = \"models/gemini-1.5-flash\"\n",
        "llm = ChatGoogleGenerativeAI(model=model_id)\n",
        "result = llm.invoke(\"What is RAG?\")\n",
        "print(result.content)"
      ]
    },
    {
      "cell_type": "code",
      "execution_count": 39,
      "metadata": {
        "colab": {
          "base_uri": "https://localhost:8080/"
        },
        "id": "65Gh8NpfA7Sy",
        "outputId": "360f85e7-80a7-4ec6-fc05-3e8de5f08a4d"
      },
      "outputs": [
        {
          "output_type": "stream",
          "name": "stdout",
          "text": [
            "I do not have access to real-time information, including dynamic data like university course schedules and instructor assignments.  To find out who teaches the Deep Learning graduate course at Sabancı University, you should check the following:\n",
            "\n",
            "* **Sabancı University's official website:** Look for the course catalog or the relevant department's (likely Computer Engineering or a similar department) webpage.  The course description should list the instructor.\n",
            "* **The university's course registration system:** If you have access to the student portal, the instructor's name will likely be listed there.\n",
            "* **Sabancı University's faculty directory:** Search the faculty directory for professors specializing in machine learning or deep learning.  Their research interests might indicate they teach the course.\n",
            "\n",
            "\n",
            "These methods will give you the most up-to-date and accurate information.\n"
          ]
        }
      ],
      "source": [
        "# Asking about courses at Sabanci\n",
        "\n",
        "result = llm.invoke(\"Who teaches the Deep Learning graduate course at sabanci university?\")\n",
        "print(result.content)"
      ]
    },
    {
      "cell_type": "markdown",
      "metadata": {
        "id": "rp989JlZBgEi"
      },
      "source": [
        "## Final RAG pipeline\n"
      ]
    },
    {
      "cell_type": "code",
      "execution_count": 40,
      "metadata": {
        "id": "Q4Q_EJSNBUKn"
      },
      "outputs": [],
      "source": [
        "from langchain.prompts import PromptTemplate\n",
        "from transformers import pipeline\n",
        "from langchain_core.output_parsers import StrOutputParser\n",
        "from langchain_core.runnables import RunnablePassthrough\n",
        "\n",
        "prompt_template = \"\"\"\n",
        "You are an assistant that helps the students of Sabanci University to learn about the offered courses.\n",
        "Use the information below to answer the student's question.\n",
        "\n",
        "Relevant Information:\n",
        "{context}\n",
        "\n",
        "Question:\n",
        "{question}\n",
        " \"\"\"\n",
        "\n",
        "prompt_generator = PromptTemplate(\n",
        "    input_variables=[\"context\", \"question\"],\n",
        "    template=prompt_template,\n",
        ")"
      ]
    },
    {
      "cell_type": "code",
      "execution_count": 41,
      "metadata": {
        "colab": {
          "base_uri": "https://localhost:8080/"
        },
        "id": "TkCgu5NbCOLw",
        "outputId": "efad529d-5ebe-48c4-cf51-01fe3c711d3a"
      },
      "outputs": [
        {
          "output_type": "stream",
          "name": "stdout",
          "text": [
            "\n",
            "You are an assistant that helps the students of Sabanci University to learn about the offered courses.\n",
            "Use the information below to answer the student's question.\n",
            "\n",
            "Relevant Information:\n",
            "This is a relevant document\n",
            "\n",
            "Question:\n",
            "This is the user question?\n",
            " \n"
          ]
        }
      ],
      "source": [
        "prompt = prompt_generator.invoke({\"context\": \"This is a relevant document\", \"question\": \"This is the user question?\"})\n",
        "print(prompt.text)"
      ]
    },
    {
      "cell_type": "markdown",
      "metadata": {
        "id": "WT1P18eraufF"
      },
      "source": [
        "### RAG Chain\n",
        "LangChain allows chaining several components into one pipeline using a simple syntax. The input to the chain is processed by each part of the chain and then passed to the next part. In our case, the processing order is:\n",
        "\n",
        "1. The user query is sent to the `retriever` to get relevant documents.\n",
        "2. The documents are passed through the `format_docs` to convert them into one string.\n",
        "3. The question is passed through `RunnablePassthrough()`, which just takes the input and passes it to the next part of the chain. We use it here to pass the user query to the prompt generator. At this point, we have the input to the prompt generator ready (context + question).\n",
        "4. The context and question are sent to the prompt generator, which place them into the prompt template that we defined.\n",
        "5. The prompt is sent to the LLM\n",
        "6. The output of the LLM is parsed using `StrOutputParser()`.\n"
      ]
    },
    {
      "cell_type": "code",
      "execution_count": 42,
      "metadata": {
        "id": "mu7yM_nzZvJi"
      },
      "outputs": [],
      "source": [
        "def format_docs(docs):\n",
        "    return \"\\n\\n\".join(doc.page_content for doc in docs)\n",
        "\n",
        "\n",
        "rag_chain = (\n",
        "    {\"context\": retriever | format_docs, \"question\": RunnablePassthrough()} # Steps 1, 2, 3\n",
        "    | prompt_generator # Step 4\n",
        "    | llm # Step 5\n",
        "    | StrOutputParser() # Step 6\n",
        ")"
      ]
    },
    {
      "cell_type": "code",
      "execution_count": 43,
      "metadata": {
        "id": "tS8Txk_LE3TW"
      },
      "outputs": [],
      "source": [
        "import textwrap\n",
        "\n",
        "from IPython.display import display\n",
        "from IPython.display import Markdown\n",
        "\n",
        "\n",
        "def to_markdown(text):\n",
        "  text = text.replace('•', '  *')\n",
        "  return Markdown(textwrap.indent(text, '> ', predicate=lambda _: True))"
      ]
    },
    {
      "cell_type": "code",
      "execution_count": 44,
      "metadata": {
        "colab": {
          "base_uri": "https://localhost:8080/",
          "height": 135
        },
        "id": "cnD5JhVdDB_P",
        "outputId": "2d22a24d-167b-49c7-baf5-7497c4818cf0"
      },
      "outputs": [
        {
          "output_type": "stream",
          "name": "stderr",
          "text": [
            "/usr/local/lib/python3.11/dist-packages/torch/nn/modules/module.py:1750: FutureWarning: `encoder_attention_mask` is deprecated and will be removed in version 4.55.0 for `BertSdpaSelfAttention.forward`.\n",
            "  return forward_call(*args, **kwargs)\n"
          ]
        },
        {
          "output_type": "execute_result",
          "data": {
            "text/plain": [
              "<IPython.core.display.Markdown object>"
            ],
            "text/markdown": "> The CS 514 (Network Science) course has classes on Mondays from 2:40 pm to 4:30 pm in  Fac. of Engin. and Nat. Sci. L055, and on Wednesdays from 12:40 pm to 1:30 pm in Fac.of Arts and Social Sci. G025.  The course is taught by Onur Varol."
          },
          "metadata": {},
          "execution_count": 44
        }
      ],
      "source": [
        "question = \"When are the CS 514 course classes? Who teaches the course?\"\n",
        "# question = \"Suggest me some economics courses in Fall 2023 on Mondays\"\n",
        "# question = \"Are there any machine learning courses offered in Fall 2023?\"\n",
        "# question = \"What is the best lab in Sabanci University?\"\n",
        "\n",
        "output = rag_chain.invoke(question)\n",
        "to_markdown(output)"
      ]
    },
    {
      "cell_type": "code",
      "execution_count": null,
      "metadata": {
        "id": "fI74U7SIxfAd"
      },
      "outputs": [],
      "source": []
    },
    {
      "cell_type": "code",
      "execution_count": null,
      "metadata": {
        "id": "d3OR8PqzF1tl"
      },
      "outputs": [],
      "source": []
    }
  ],
  "metadata": {
    "accelerator": "GPU",
    "colab": {
      "gpuType": "T4",
      "provenance": []
    },
    "kernelspec": {
      "display_name": "Python 3",
      "name": "python3"
    },
    "language_info": {
      "name": "python"
    }
  },
  "nbformat": 4,
  "nbformat_minor": 0
}